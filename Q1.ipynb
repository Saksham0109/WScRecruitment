{
 "cells": [
  {
   "cell_type": "code",
   "execution_count": 1,
   "metadata": {},
   "outputs": [],
   "source": [
    "import numpy as np"
   ]
  },
  {
   "cell_type": "code",
   "execution_count": 2,
   "metadata": {},
   "outputs": [],
   "source": [
    "N=[10,20,400,10000,100000]"
   ]
  },
  {
   "cell_type": "code",
   "execution_count": 5,
   "metadata": {},
   "outputs": [
    {
     "name": "stdout",
     "output_type": "stream",
     "text": [
      "10\n",
      "Expected Money:1.55\n",
      "Variance:0.4725\n",
      "20\n",
      "Expected Money:1.175\n",
      "Variance:0.5568749999999999\n",
      "400\n",
      "Expected Money:1.2125\n",
      "Variance:0.5610937500000001\n",
      "10000\n",
      "Expected Money:1.25105\n",
      "Variance:0.5624988974999999\n",
      "100000\n",
      "Expected Money:1.249955\n",
      "Variance:0.5624999979749999\n"
     ]
    }
   ],
   "source": [
    "for i in N:\n",
    "    simulation=np.zeros(i)\n",
    "    for j in range(i):\n",
    "        simulation[j]=np.random.binomial(n=1,p=0.5)\n",
    "        if(simulation[j]==1):\n",
    "            simulation[j]=2\n",
    "            #Initial 1+1(profit)\n",
    "        if(simulation[j]==0):\n",
    "            simulation[j]=0.5\n",
    "            #Initial 1-0.5(loss)\n",
    "    print(i)\n",
    "    print(\"Expected Money:\"+str(np.mean(simulation)))\n",
    "    print(\"Variance:\"+str(np.var(simulation)))\n",
    "    "
   ]
  },
  {
   "cell_type": "markdown",
   "metadata": {},
   "source": [
    "As we can see as we increase the number of simulations the expected value tends to go towards 1.25 as the expected value of a fair coin toss will either be 2 or 0.5 and therefore E(X)=1.25 but each simulation is independent therefore it will tend towards this value as we increase the number of simulations and will ideally achieve it at infinity.\n",
    "\n",
    "The variance for each toss is tending towards 0.5625 as N increases coz V(X)=E(X^2)-E(X)^2.\n",
    "\n",
    "Both these trends show that as a sample size increases, the sample mean and variance will be closer in value to the population mean μ and population variance σ^2"
   ]
  }
 ],
 "metadata": {
  "kernelspec": {
   "display_name": "Python 3.9.12 ('RL')",
   "language": "python",
   "name": "python3"
  },
  "language_info": {
   "codemirror_mode": {
    "name": "ipython",
    "version": 3
   },
   "file_extension": ".py",
   "mimetype": "text/x-python",
   "name": "python",
   "nbconvert_exporter": "python",
   "pygments_lexer": "ipython3",
   "version": "3.9.12"
  },
  "orig_nbformat": 4,
  "vscode": {
   "interpreter": {
    "hash": "2070c5131435e64915ea90deb81f12392f7964ea8fe444034525e252d38eab81"
   }
  }
 },
 "nbformat": 4,
 "nbformat_minor": 2
}
