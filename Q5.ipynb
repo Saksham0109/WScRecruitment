{
 "cells": [
  {
   "cell_type": "code",
   "execution_count": 1,
   "metadata": {},
   "outputs": [],
   "source": [
    "import numpy as np\n",
    "import pandas as pd"
   ]
  },
  {
   "cell_type": "code",
   "execution_count": 2,
   "metadata": {},
   "outputs": [],
   "source": [
    "adani=pd.read_csv(\"ADANIPORTS.csv\")\n",
    "adani['return']=adani['Close'].pct_change()\n",
    "adani=adani['return'].dropna()"
   ]
  },
  {
   "cell_type": "code",
   "execution_count": 3,
   "metadata": {},
   "outputs": [],
   "source": [
    "cipla=pd.read_csv(\"CIPLA.csv\")\n",
    "cipla['return']=cipla['Close'].pct_change()\n",
    "cipla=cipla['return'].dropna()"
   ]
  },
  {
   "cell_type": "code",
   "execution_count": 4,
   "metadata": {},
   "outputs": [],
   "source": [
    "ongc=pd.read_csv(\"ONGC.csv\")\n",
    "ongc['return']=ongc['Close'].pct_change()\n",
    "ongc=ongc['return'].dropna()"
   ]
  },
  {
   "cell_type": "code",
   "execution_count": 5,
   "metadata": {},
   "outputs": [],
   "source": [
    "def func(data):\n",
    "    n = len(data)\n",
    "    mean = sum(data) / n\n",
    "    deviations = sum([(x - mean)**2 for x in data])\n",
    "    variance = deviations / (n - 1)\n",
    "    s = variance**(1/2)\n",
    "    return mean,s"
   ]
  },
  {
   "cell_type": "code",
   "execution_count": 6,
   "metadata": {},
   "outputs": [],
   "source": [
    "expectedA,stddevA=func(adani)\n",
    "expectedB,stddevB=func(cipla)\n",
    "expectedC,stddevC=func(ongc)\n"
   ]
  },
  {
   "cell_type": "code",
   "execution_count": 7,
   "metadata": {},
   "outputs": [
    {
     "name": "stdout",
     "output_type": "stream",
     "text": [
      "AdaniPort Expected Return: 0.0005256802216729013\n",
      "Cipla Expected Return: 0.0003245075403814095\n",
      "ONGC Expected Return: 0.00029434814653220217\n",
      "AdaniPort Standard Deviation: 0.03036997137637826\n",
      "Cipla Standard Deviation: 0.0243825665272633\n",
      "ONGC Standard Deviation: 0.02625614630154568\n"
     ]
    }
   ],
   "source": [
    "print(\"AdaniPort Expected Return: \"+str(expectedA))\n",
    "print(\"Cipla Expected Return: \"+str(expectedB))\n",
    "print(\"ONGC Expected Return: \"+str(expectedC))\n",
    "print(\"AdaniPort Standard Deviation: \"+str(stddevA))\n",
    "print(\"Cipla Standard Deviation: \"+str(stddevB))\n",
    "print(\"ONGC Standard Deviation: \"+str(stddevC))"
   ]
  },
  {
   "cell_type": "markdown",
   "metadata": {},
   "source": [
    "Lets suppose we invest x,y,z percent in adaniport,cipla,ongc respectively.\n",
    "Risk Free return is taken to be Zero."
   ]
  },
  {
   "cell_type": "code",
   "execution_count": 8,
   "metadata": {},
   "outputs": [],
   "source": [
    "def func(r,sign=-1.0):\n",
    "    x=r[0]\n",
    "    y=r[1]\n",
    "    z=r[2]\n",
    "    Sharpe_ratio=(x*expectedA+y*expectedB+z*expectedC)/np.sqrt((x**2)*(stddevA**2)+(y**2)*(stddevB**2)+(z**2)*(stddevC**2))\n",
    "    return sign*Sharpe_ratio"
   ]
  },
  {
   "cell_type": "code",
   "execution_count": 9,
   "metadata": {},
   "outputs": [],
   "source": [
    "def constraint(x):\n",
    "    return x[0]+x[1]+x[2]-1"
   ]
  },
  {
   "cell_type": "code",
   "execution_count": 10,
   "metadata": {},
   "outputs": [],
   "source": [
    "r0=[1/3,1/3,1/3]\n",
    "bnds=((0.3,1),(0.3,1),(0.3,1))\n",
    "cons=[{'type':'eq','fun':constraint}]"
   ]
  },
  {
   "cell_type": "code",
   "execution_count": 11,
   "metadata": {},
   "outputs": [],
   "source": [
    "from scipy.optimize import minimize"
   ]
  },
  {
   "cell_type": "code",
   "execution_count": 12,
   "metadata": {},
   "outputs": [
    {
     "name": "stdout",
     "output_type": "stream",
     "text": [
      "     fun: -0.024516620030793728\n",
      "     jac: array([-0.00084868, -0.00058005,  0.00167406])\n",
      " message: 'Optimization terminated successfully'\n",
      "    nfev: 16\n",
      "     nit: 4\n",
      "    njev: 4\n",
      "  status: 0\n",
      " success: True\n",
      "       x: array([0.35805258, 0.34194742, 0.3       ])\n"
     ]
    }
   ],
   "source": [
    "sol=minimize(func,r0,method='SLSQP',bounds=bnds,constraints=cons)\n",
    "print(sol)"
   ]
  },
  {
   "cell_type": "markdown",
   "metadata": {},
   "source": [
    "So best Sharpe Ratio will be 0.024516620030793728.\n",
    "\n",
    "35.805258% in AdaniPort\n",
    "\n",
    "34.194742% in Cipla\n",
    "\n",
    "30% in ONGC"
   ]
  }
 ],
 "metadata": {
  "kernelspec": {
   "display_name": "Python 3.9.12 ('RL')",
   "language": "python",
   "name": "python3"
  },
  "language_info": {
   "codemirror_mode": {
    "name": "ipython",
    "version": 3
   },
   "file_extension": ".py",
   "mimetype": "text/x-python",
   "name": "python",
   "nbconvert_exporter": "python",
   "pygments_lexer": "ipython3",
   "version": "3.9.12"
  },
  "orig_nbformat": 4,
  "vscode": {
   "interpreter": {
    "hash": "2070c5131435e64915ea90deb81f12392f7964ea8fe444034525e252d38eab81"
   }
  }
 },
 "nbformat": 4,
 "nbformat_minor": 2
}
